{
 "cells": [
  {
   "cell_type": "markdown",
   "id": "a3dd5361-264b-440a-9bc4-af19078767d3",
   "metadata": {},
   "source": [
    "# Self-Organizing Maps (SOMs)"
   ]
  },
  {
   "cell_type": "code",
   "execution_count": 1,
   "id": "c8295395-d797-4cbf-8377-76e4aaab2d88",
   "metadata": {},
   "outputs": [],
   "source": [
    "import pandas as pd\n",
    "import numpy as np\n",
    "import matplotlib.pyplot as plt\n",
    "import seaborn as sns\n",
    "\n",
    "%matplotlib inline"
   ]
  },
  {
   "cell_type": "markdown",
   "id": "24afd5ad-43da-4f17-b08b-91f9cb3d428d",
   "metadata": {},
   "source": [
    "## Dataset"
   ]
  },
  {
   "cell_type": "code",
   "execution_count": 2,
   "id": "f54f5a24-12fe-4172-8724-0bc9c44a179a",
   "metadata": {},
   "outputs": [
    {
     "name": "stdout",
     "output_type": "stream",
     "text": [
      "CustomerID,A1,A2,A3,A4,A5,A6,A7,A8,A9,A10,A11,A12,A13,A14,Class\n",
      "15776156,1,22.08,11.46,2,4,4,1.585,0,0,0,1,2,100,1213,0\n",
      "15739548,0,22.67,7,2,8,4,0.165,0,0,0,0,2,160,1,0\n",
      "15662854,0,29.58,1.75,1,4,4,1.25,0,0,0,1,2,280,1,0\n",
      "15687688,0,21.67,11.5,1,5,3,0,1,1,11,1,2,0,1,1\n",
      "15715750,1,20.17,8.17,2,6,4,1.96,1,1,14,0,2,60,159,1\n",
      "15571121,0,15.83,0.585,2,8,8,1.5,1,1,2,0,2,100,1,1\n",
      "15726466,1,17.42,6.5,2,3,4,0.125,0,0,0,0,2,60,101,0\n",
      "15660390,0,58.67,4.46,2,11,8,3.04,1,1,6,0,2,43,561,1\n",
      "15663942,1,27.83,1,1,2,8,3,0,0,0,0,2,176,538,0\n"
     ]
    }
   ],
   "source": [
    "%cat \"./00_data/Credit_Card_Applications.csv\"|head"
   ]
  },
  {
   "cell_type": "code",
   "execution_count": 3,
   "id": "2bd77ea0-3f16-4eb9-b102-60d9078ef20d",
   "metadata": {},
   "outputs": [
    {
     "name": "stdout",
     "output_type": "stream",
     "text": [
      "CustomerID,A1,A2,A3,A4,A5,A6,A7,A8,A9,A10,A11,A12,A13,A14,Class\n",
      "15776156,1,22.08,11.46,2,4,4,1.585,0,0,0,1,2,100,1213,0\n",
      "15739548,0,22.67,7,2,8,4,0.165,0,0,0,0,2,160,1,0\n",
      "15662854,0,29.58,1.75,1,4,4,1.25,0,0,0,1,2,280,1,0\n",
      "15687688,0,21.67,11.5,1,5,3,0,1,1,11,1,2,0,1,1\n",
      "15715750,1,20.17,8.17,2,6,4,1.96,1,1,14,0,2,60,159,1\n",
      "15571121,0,15.83,0.585,2,8,8,1.5,1,1,2,0,2,100,1,1\n",
      "15726466,1,17.42,6.5,2,3,4,0.125,0,0,0,0,2,60,101,0\n",
      "15660390,0,58.67,4.46,2,11,8,3.04,1,1,6,0,2,43,561,1\n",
      "15663942,1,27.83,1,1,2,8,3,0,0,0,0,2,176,538,0\n"
     ]
    }
   ],
   "source": [
    "%cat \"./00_data/Credit_Card_Applications.csv\"|head"
   ]
  },
  {
   "cell_type": "code",
   "execution_count": 4,
   "id": "381beb70-621d-4898-86a7-8c58b0f3ba7d",
   "metadata": {},
   "outputs": [
    {
     "data": {
      "text/html": [
       "<div>\n",
       "<style scoped>\n",
       "    .dataframe tbody tr th:only-of-type {\n",
       "        vertical-align: middle;\n",
       "    }\n",
       "\n",
       "    .dataframe tbody tr th {\n",
       "        vertical-align: top;\n",
       "    }\n",
       "\n",
       "    .dataframe thead th {\n",
       "        text-align: right;\n",
       "    }\n",
       "</style>\n",
       "<table border=\"1\" class=\"dataframe\">\n",
       "  <thead>\n",
       "    <tr style=\"text-align: right;\">\n",
       "      <th></th>\n",
       "      <th>CustomerID</th>\n",
       "      <th>A1</th>\n",
       "      <th>A2</th>\n",
       "      <th>A3</th>\n",
       "      <th>A4</th>\n",
       "      <th>A5</th>\n",
       "      <th>A6</th>\n",
       "      <th>A7</th>\n",
       "      <th>A8</th>\n",
       "      <th>A9</th>\n",
       "      <th>A10</th>\n",
       "      <th>A11</th>\n",
       "      <th>A12</th>\n",
       "      <th>A13</th>\n",
       "      <th>A14</th>\n",
       "      <th>Class</th>\n",
       "    </tr>\n",
       "  </thead>\n",
       "  <tbody>\n",
       "    <tr>\n",
       "      <th>0</th>\n",
       "      <td>15776156</td>\n",
       "      <td>1</td>\n",
       "      <td>22.08</td>\n",
       "      <td>11.46</td>\n",
       "      <td>2</td>\n",
       "      <td>4</td>\n",
       "      <td>4</td>\n",
       "      <td>1.585</td>\n",
       "      <td>0</td>\n",
       "      <td>0</td>\n",
       "      <td>0</td>\n",
       "      <td>1</td>\n",
       "      <td>2</td>\n",
       "      <td>100</td>\n",
       "      <td>1213</td>\n",
       "      <td>0</td>\n",
       "    </tr>\n",
       "    <tr>\n",
       "      <th>1</th>\n",
       "      <td>15739548</td>\n",
       "      <td>0</td>\n",
       "      <td>22.67</td>\n",
       "      <td>7.00</td>\n",
       "      <td>2</td>\n",
       "      <td>8</td>\n",
       "      <td>4</td>\n",
       "      <td>0.165</td>\n",
       "      <td>0</td>\n",
       "      <td>0</td>\n",
       "      <td>0</td>\n",
       "      <td>0</td>\n",
       "      <td>2</td>\n",
       "      <td>160</td>\n",
       "      <td>1</td>\n",
       "      <td>0</td>\n",
       "    </tr>\n",
       "    <tr>\n",
       "      <th>2</th>\n",
       "      <td>15662854</td>\n",
       "      <td>0</td>\n",
       "      <td>29.58</td>\n",
       "      <td>1.75</td>\n",
       "      <td>1</td>\n",
       "      <td>4</td>\n",
       "      <td>4</td>\n",
       "      <td>1.250</td>\n",
       "      <td>0</td>\n",
       "      <td>0</td>\n",
       "      <td>0</td>\n",
       "      <td>1</td>\n",
       "      <td>2</td>\n",
       "      <td>280</td>\n",
       "      <td>1</td>\n",
       "      <td>0</td>\n",
       "    </tr>\n",
       "    <tr>\n",
       "      <th>3</th>\n",
       "      <td>15687688</td>\n",
       "      <td>0</td>\n",
       "      <td>21.67</td>\n",
       "      <td>11.50</td>\n",
       "      <td>1</td>\n",
       "      <td>5</td>\n",
       "      <td>3</td>\n",
       "      <td>0.000</td>\n",
       "      <td>1</td>\n",
       "      <td>1</td>\n",
       "      <td>11</td>\n",
       "      <td>1</td>\n",
       "      <td>2</td>\n",
       "      <td>0</td>\n",
       "      <td>1</td>\n",
       "      <td>1</td>\n",
       "    </tr>\n",
       "    <tr>\n",
       "      <th>4</th>\n",
       "      <td>15715750</td>\n",
       "      <td>1</td>\n",
       "      <td>20.17</td>\n",
       "      <td>8.17</td>\n",
       "      <td>2</td>\n",
       "      <td>6</td>\n",
       "      <td>4</td>\n",
       "      <td>1.960</td>\n",
       "      <td>1</td>\n",
       "      <td>1</td>\n",
       "      <td>14</td>\n",
       "      <td>0</td>\n",
       "      <td>2</td>\n",
       "      <td>60</td>\n",
       "      <td>159</td>\n",
       "      <td>1</td>\n",
       "    </tr>\n",
       "  </tbody>\n",
       "</table>\n",
       "</div>"
      ],
      "text/plain": [
       "   CustomerID  A1     A2     A3  A4  A5  A6     A7  A8  A9  A10  A11  A12  \\\n",
       "0    15776156   1  22.08  11.46   2   4   4  1.585   0   0    0    1    2   \n",
       "1    15739548   0  22.67   7.00   2   8   4  0.165   0   0    0    0    2   \n",
       "2    15662854   0  29.58   1.75   1   4   4  1.250   0   0    0    1    2   \n",
       "3    15687688   0  21.67  11.50   1   5   3  0.000   1   1   11    1    2   \n",
       "4    15715750   1  20.17   8.17   2   6   4  1.960   1   1   14    0    2   \n",
       "\n",
       "   A13   A14  Class  \n",
       "0  100  1213      0  \n",
       "1  160     1      0  \n",
       "2  280     1      0  \n",
       "3    0     1      1  \n",
       "4   60   159      1  "
      ]
     },
     "execution_count": 4,
     "metadata": {},
     "output_type": "execute_result"
    }
   ],
   "source": [
    "# train data loading \n",
    "train_data = pd.read_csv(\"./00_data/Credit_Card_Applications.csv\")\n",
    "train_data.head()"
   ]
  },
  {
   "cell_type": "code",
   "execution_count": 5,
   "id": "bc5bc469-9e15-43ec-a256-c83ed59e1860",
   "metadata": {},
   "outputs": [
    {
     "data": {
      "text/plain": [
       "(690, 16)"
      ]
     },
     "execution_count": 5,
     "metadata": {},
     "output_type": "execute_result"
    }
   ],
   "source": [
    "train_data.shape"
   ]
  },
  {
   "cell_type": "code",
   "execution_count": 6,
   "id": "c037b420-7061-4cda-82b8-d56f63005960",
   "metadata": {},
   "outputs": [
    {
     "name": "stdout",
     "output_type": "stream",
     "text": [
      "<class 'pandas.core.frame.DataFrame'>\n",
      "RangeIndex: 690 entries, 0 to 689\n",
      "Data columns (total 16 columns):\n",
      " #   Column      Non-Null Count  Dtype  \n",
      "---  ------      --------------  -----  \n",
      " 0   CustomerID  690 non-null    int64  \n",
      " 1   A1          690 non-null    int64  \n",
      " 2   A2          690 non-null    float64\n",
      " 3   A3          690 non-null    float64\n",
      " 4   A4          690 non-null    int64  \n",
      " 5   A5          690 non-null    int64  \n",
      " 6   A6          690 non-null    int64  \n",
      " 7   A7          690 non-null    float64\n",
      " 8   A8          690 non-null    int64  \n",
      " 9   A9          690 non-null    int64  \n",
      " 10  A10         690 non-null    int64  \n",
      " 11  A11         690 non-null    int64  \n",
      " 12  A12         690 non-null    int64  \n",
      " 13  A13         690 non-null    int64  \n",
      " 14  A14         690 non-null    int64  \n",
      " 15  Class       690 non-null    int64  \n",
      "dtypes: float64(3), int64(13)\n",
      "memory usage: 86.4 KB\n"
     ]
    }
   ],
   "source": [
    "train_data.info()"
   ]
  },
  {
   "cell_type": "code",
   "execution_count": 7,
   "id": "a39d4ddc-ea3d-423e-a135-caf967bd410f",
   "metadata": {},
   "outputs": [
    {
     "data": {
      "text/plain": [
       "CustomerID    0\n",
       "A1            0\n",
       "A2            0\n",
       "A3            0\n",
       "A4            0\n",
       "A5            0\n",
       "A6            0\n",
       "A7            0\n",
       "A8            0\n",
       "A9            0\n",
       "A10           0\n",
       "A11           0\n",
       "A12           0\n",
       "A13           0\n",
       "A14           0\n",
       "Class         0\n",
       "dtype: int64"
      ]
     },
     "execution_count": 7,
     "metadata": {},
     "output_type": "execute_result"
    }
   ],
   "source": [
    "train_data.isna().sum()"
   ]
  },
  {
   "cell_type": "markdown",
   "id": "c3def48c-72e5-4d1c-823b-de31ad552ad3",
   "metadata": {},
   "source": [
    "## Data Preprocessing"
   ]
  },
  {
   "cell_type": "code",
   "execution_count": 8,
   "id": "0bd234aa-1035-4b2e-97f4-e4620e7f39e6",
   "metadata": {},
   "outputs": [],
   "source": [
    "X = train_data.iloc[:, :-1].values\n",
    "y = train_data.iloc[:, -1].values"
   ]
  },
  {
   "cell_type": "code",
   "execution_count": 9,
   "id": "edc37510-9945-4412-9f4a-184bc95ba8f1",
   "metadata": {},
   "outputs": [
    {
     "data": {
      "text/plain": [
       "(690, 15)"
      ]
     },
     "execution_count": 9,
     "metadata": {},
     "output_type": "execute_result"
    }
   ],
   "source": [
    "X.shape"
   ]
  },
  {
   "cell_type": "code",
   "execution_count": 10,
   "id": "e4a0e045-b544-4b00-b7d7-ed311e9a6324",
   "metadata": {},
   "outputs": [
    {
     "data": {
      "text/plain": [
       "(690,)"
      ]
     },
     "execution_count": 10,
     "metadata": {},
     "output_type": "execute_result"
    }
   ],
   "source": [
    "y.shape"
   ]
  },
  {
   "cell_type": "markdown",
   "id": "421e1b40-f418-4c2a-bd75-be9d2902d1d9",
   "metadata": {},
   "source": [
    "### Features scaling"
   ]
  },
  {
   "cell_type": "code",
   "execution_count": 11,
   "id": "1ed919b6-2748-4d55-8251-00b7e0c647c2",
   "metadata": {},
   "outputs": [],
   "source": [
    "from sklearn.preprocessing import MinMaxScaler\n",
    "\n",
    "norm_encoder = MinMaxScaler(feature_range=(0, 1))\n",
    "X_scaled = norm_encoder.fit_transform(X)"
   ]
  },
  {
   "cell_type": "markdown",
   "id": "9740e2a3-839a-47c6-b622-8e514245088a",
   "metadata": {},
   "source": [
    "## Training the SOM"
   ]
  },
  {
   "cell_type": "code",
   "execution_count": 12,
   "id": "5a8b57b5-b8a7-4e7a-8206-7410114d24eb",
   "metadata": {},
   "outputs": [],
   "source": [
    "#!pip install minisom"
   ]
  },
  {
   "cell_type": "code",
   "execution_count": 13,
   "id": "09199894-a7af-4b0d-8dd5-4e324c1a1c0a",
   "metadata": {},
   "outputs": [],
   "source": [
    "from minisom import MiniSom"
   ]
  },
  {
   "cell_type": "code",
   "execution_count": 14,
   "id": "c3e551f7-4a2b-4e0f-9ee3-3f6cc74901e5",
   "metadata": {},
   "outputs": [],
   "source": [
    "som = MiniSom(x=10, y=10, input_len=15, sigma=1.0, learning_rate=0.5, random_seed=42)\n",
    "som.random_weights_init(X_scaled)\n",
    "som.train_random(X_scaled, num_iteration=1000)"
   ]
  },
  {
   "cell_type": "markdown",
   "id": "8f5f12f9-4a77-48a1-9085-680cd5941b45",
   "metadata": {},
   "source": [
    "##  Visualizing the results"
   ]
  },
  {
   "cell_type": "code",
   "execution_count": 15,
   "id": "3f0b5900-726c-4ad3-ae00-5efd6920d742",
   "metadata": {},
   "outputs": [],
   "source": [
    "markers = [\"o\", \"s\"]\n",
    "colors = [\"r\", \"g\"]"
   ]
  },
  {
   "cell_type": "code",
   "execution_count": 16,
   "id": "afcfb32c-d0d9-4e02-bb5b-b9275ba08fe2",
   "metadata": {},
   "outputs": [
    {
     "data": {
      "image/png": "[encoded data removed]",
      "text/plain": [
       "<Figure size 700x700 with 2 Axes>"
      ]
     },
     "metadata": {},
     "output_type": "display_data"
    }
   ],
   "source": [
    "plt.figure(figsize=(7, 7))\n",
    "u_matrix = som.distance_map()\n",
    "plt.pcolor(u_matrix.T, cmap='bone')\n",
    "for i, x in enumerate(X_scaled):\n",
    "    w = som.winner(x)\n",
    "    plt.plot(w[0] + 0.5, \n",
    "             w[1] + 0.5, \n",
    "             marker=markers[y[i]], \n",
    "             linestyle='None',\n",
    "             markerfacecolor='none', \n",
    "             markeredgecolor=colors[y[i]], \n",
    "             markersize=10,\n",
    "            markeredgewidth=2)\n",
    "plt.colorbar()\n",
    "plt.title('U-Matrix (Distance Map)')\n",
    "plt.show()"
   ]
  },
  {
   "cell_type": "markdown",
   "id": "1fbed34f-f7fa-4841-ad6d-25068b7e1f9c",
   "metadata": {},
   "source": [
    "## Finding the frouds"
   ]
  },
  {
   "cell_type": "code",
   "execution_count": 17,
   "id": "6ccabce4-8d7a-4bb6-87f1-43fac6638929",
   "metadata": {},
   "outputs": [
    {
     "data": {
      "text/html": [
       "<div>\n",
       "<style scoped>\n",
       "    .dataframe tbody tr th:only-of-type {\n",
       "        vertical-align: middle;\n",
       "    }\n",
       "\n",
       "    .dataframe tbody tr th {\n",
       "        vertical-align: top;\n",
       "    }\n",
       "\n",
       "    .dataframe thead th {\n",
       "        text-align: right;\n",
       "    }\n",
       "</style>\n",
       "<table border=\"1\" class=\"dataframe\">\n",
       "  <thead>\n",
       "    <tr style=\"text-align: right;\">\n",
       "      <th></th>\n",
       "      <th>0</th>\n",
       "      <th>1</th>\n",
       "      <th>2</th>\n",
       "      <th>3</th>\n",
       "      <th>4</th>\n",
       "      <th>5</th>\n",
       "      <th>6</th>\n",
       "      <th>7</th>\n",
       "      <th>8</th>\n",
       "      <th>9</th>\n",
       "      <th>10</th>\n",
       "      <th>11</th>\n",
       "      <th>12</th>\n",
       "      <th>13</th>\n",
       "      <th>14</th>\n",
       "    </tr>\n",
       "  </thead>\n",
       "  <tbody>\n",
       "    <tr>\n",
       "      <th>0</th>\n",
       "      <td>15810716.0</td>\n",
       "      <td>1.0</td>\n",
       "      <td>23.50</td>\n",
       "      <td>3.165</td>\n",
       "      <td>1.0</td>\n",
       "      <td>4.0</td>\n",
       "      <td>4.0</td>\n",
       "      <td>0.415</td>\n",
       "      <td>0.0</td>\n",
       "      <td>1.0</td>\n",
       "      <td>1.0</td>\n",
       "      <td>1.0</td>\n",
       "      <td>2.0</td>\n",
       "      <td>280.0</td>\n",
       "      <td>81.0</td>\n",
       "    </tr>\n",
       "    <tr>\n",
       "      <th>1</th>\n",
       "      <td>15766183.0</td>\n",
       "      <td>0.0</td>\n",
       "      <td>24.50</td>\n",
       "      <td>0.500</td>\n",
       "      <td>2.0</td>\n",
       "      <td>11.0</td>\n",
       "      <td>8.0</td>\n",
       "      <td>1.500</td>\n",
       "      <td>1.0</td>\n",
       "      <td>0.0</td>\n",
       "      <td>0.0</td>\n",
       "      <td>0.0</td>\n",
       "      <td>2.0</td>\n",
       "      <td>280.0</td>\n",
       "      <td>825.0</td>\n",
       "    </tr>\n",
       "    <tr>\n",
       "      <th>2</th>\n",
       "      <td>15684722.0</td>\n",
       "      <td>0.0</td>\n",
       "      <td>27.67</td>\n",
       "      <td>1.500</td>\n",
       "      <td>2.0</td>\n",
       "      <td>7.0</td>\n",
       "      <td>4.0</td>\n",
       "      <td>2.000</td>\n",
       "      <td>1.0</td>\n",
       "      <td>0.0</td>\n",
       "      <td>0.0</td>\n",
       "      <td>0.0</td>\n",
       "      <td>1.0</td>\n",
       "      <td>368.0</td>\n",
       "      <td>1.0</td>\n",
       "    </tr>\n",
       "    <tr>\n",
       "      <th>3</th>\n",
       "      <td>15772329.0</td>\n",
       "      <td>0.0</td>\n",
       "      <td>28.08</td>\n",
       "      <td>15.000</td>\n",
       "      <td>1.0</td>\n",
       "      <td>10.0</td>\n",
       "      <td>9.0</td>\n",
       "      <td>0.000</td>\n",
       "      <td>1.0</td>\n",
       "      <td>0.0</td>\n",
       "      <td>0.0</td>\n",
       "      <td>0.0</td>\n",
       "      <td>2.0</td>\n",
       "      <td>0.0</td>\n",
       "      <td>13213.0</td>\n",
       "    </tr>\n",
       "    <tr>\n",
       "      <th>4</th>\n",
       "      <td>15734649.0</td>\n",
       "      <td>0.0</td>\n",
       "      <td>40.83</td>\n",
       "      <td>10.000</td>\n",
       "      <td>2.0</td>\n",
       "      <td>11.0</td>\n",
       "      <td>8.0</td>\n",
       "      <td>1.750</td>\n",
       "      <td>1.0</td>\n",
       "      <td>0.0</td>\n",
       "      <td>0.0</td>\n",
       "      <td>0.0</td>\n",
       "      <td>2.0</td>\n",
       "      <td>29.0</td>\n",
       "      <td>838.0</td>\n",
       "    </tr>\n",
       "    <tr>\n",
       "      <th>5</th>\n",
       "      <td>15646082.0</td>\n",
       "      <td>0.0</td>\n",
       "      <td>18.83</td>\n",
       "      <td>4.415</td>\n",
       "      <td>1.0</td>\n",
       "      <td>8.0</td>\n",
       "      <td>8.0</td>\n",
       "      <td>3.000</td>\n",
       "      <td>1.0</td>\n",
       "      <td>0.0</td>\n",
       "      <td>0.0</td>\n",
       "      <td>0.0</td>\n",
       "      <td>2.0</td>\n",
       "      <td>240.0</td>\n",
       "      <td>1.0</td>\n",
       "    </tr>\n",
       "    <tr>\n",
       "      <th>6</th>\n",
       "      <td>15717629.0</td>\n",
       "      <td>0.0</td>\n",
       "      <td>25.17</td>\n",
       "      <td>2.875</td>\n",
       "      <td>2.0</td>\n",
       "      <td>14.0</td>\n",
       "      <td>8.0</td>\n",
       "      <td>0.875</td>\n",
       "      <td>1.0</td>\n",
       "      <td>0.0</td>\n",
       "      <td>0.0</td>\n",
       "      <td>0.0</td>\n",
       "      <td>2.0</td>\n",
       "      <td>360.0</td>\n",
       "      <td>1.0</td>\n",
       "    </tr>\n",
       "    <tr>\n",
       "      <th>7</th>\n",
       "      <td>15604536.0</td>\n",
       "      <td>0.0</td>\n",
       "      <td>20.50</td>\n",
       "      <td>11.835</td>\n",
       "      <td>2.0</td>\n",
       "      <td>8.0</td>\n",
       "      <td>8.0</td>\n",
       "      <td>6.000</td>\n",
       "      <td>1.0</td>\n",
       "      <td>0.0</td>\n",
       "      <td>0.0</td>\n",
       "      <td>0.0</td>\n",
       "      <td>2.0</td>\n",
       "      <td>340.0</td>\n",
       "      <td>1.0</td>\n",
       "    </tr>\n",
       "    <tr>\n",
       "      <th>8</th>\n",
       "      <td>15635598.0</td>\n",
       "      <td>0.0</td>\n",
       "      <td>24.58</td>\n",
       "      <td>0.670</td>\n",
       "      <td>2.0</td>\n",
       "      <td>6.0</td>\n",
       "      <td>8.0</td>\n",
       "      <td>1.750</td>\n",
       "      <td>1.0</td>\n",
       "      <td>0.0</td>\n",
       "      <td>0.0</td>\n",
       "      <td>0.0</td>\n",
       "      <td>2.0</td>\n",
       "      <td>400.0</td>\n",
       "      <td>1.0</td>\n",
       "    </tr>\n",
       "    <tr>\n",
       "      <th>9</th>\n",
       "      <td>15647191.0</td>\n",
       "      <td>0.0</td>\n",
       "      <td>32.33</td>\n",
       "      <td>0.540</td>\n",
       "      <td>2.0</td>\n",
       "      <td>13.0</td>\n",
       "      <td>4.0</td>\n",
       "      <td>0.040</td>\n",
       "      <td>1.0</td>\n",
       "      <td>0.0</td>\n",
       "      <td>0.0</td>\n",
       "      <td>0.0</td>\n",
       "      <td>2.0</td>\n",
       "      <td>440.0</td>\n",
       "      <td>11178.0</td>\n",
       "    </tr>\n",
       "    <tr>\n",
       "      <th>10</th>\n",
       "      <td>15623369.0</td>\n",
       "      <td>0.0</td>\n",
       "      <td>44.33</td>\n",
       "      <td>0.000</td>\n",
       "      <td>2.0</td>\n",
       "      <td>8.0</td>\n",
       "      <td>4.0</td>\n",
       "      <td>2.500</td>\n",
       "      <td>1.0</td>\n",
       "      <td>0.0</td>\n",
       "      <td>0.0</td>\n",
       "      <td>0.0</td>\n",
       "      <td>2.0</td>\n",
       "      <td>0.0</td>\n",
       "      <td>1.0</td>\n",
       "    </tr>\n",
       "    <tr>\n",
       "      <th>11</th>\n",
       "      <td>15793896.0</td>\n",
       "      <td>0.0</td>\n",
       "      <td>28.42</td>\n",
       "      <td>3.500</td>\n",
       "      <td>2.0</td>\n",
       "      <td>9.0</td>\n",
       "      <td>4.0</td>\n",
       "      <td>0.835</td>\n",
       "      <td>1.0</td>\n",
       "      <td>0.0</td>\n",
       "      <td>0.0</td>\n",
       "      <td>0.0</td>\n",
       "      <td>1.0</td>\n",
       "      <td>280.0</td>\n",
       "      <td>1.0</td>\n",
       "    </tr>\n",
       "    <tr>\n",
       "      <th>12</th>\n",
       "      <td>15650591.0</td>\n",
       "      <td>0.0</td>\n",
       "      <td>26.08</td>\n",
       "      <td>8.665</td>\n",
       "      <td>2.0</td>\n",
       "      <td>6.0</td>\n",
       "      <td>4.0</td>\n",
       "      <td>1.415</td>\n",
       "      <td>1.0</td>\n",
       "      <td>0.0</td>\n",
       "      <td>0.0</td>\n",
       "      <td>0.0</td>\n",
       "      <td>2.0</td>\n",
       "      <td>160.0</td>\n",
       "      <td>151.0</td>\n",
       "    </tr>\n",
       "    <tr>\n",
       "      <th>13</th>\n",
       "      <td>15633608.0</td>\n",
       "      <td>0.0</td>\n",
       "      <td>22.92</td>\n",
       "      <td>11.585</td>\n",
       "      <td>2.0</td>\n",
       "      <td>13.0</td>\n",
       "      <td>4.0</td>\n",
       "      <td>0.040</td>\n",
       "      <td>1.0</td>\n",
       "      <td>0.0</td>\n",
       "      <td>0.0</td>\n",
       "      <td>0.0</td>\n",
       "      <td>2.0</td>\n",
       "      <td>80.0</td>\n",
       "      <td>1350.0</td>\n",
       "    </tr>\n",
       "    <tr>\n",
       "      <th>14</th>\n",
       "      <td>15675450.0</td>\n",
       "      <td>0.0</td>\n",
       "      <td>18.83</td>\n",
       "      <td>9.540</td>\n",
       "      <td>2.0</td>\n",
       "      <td>6.0</td>\n",
       "      <td>4.0</td>\n",
       "      <td>0.085</td>\n",
       "      <td>1.0</td>\n",
       "      <td>0.0</td>\n",
       "      <td>0.0</td>\n",
       "      <td>0.0</td>\n",
       "      <td>2.0</td>\n",
       "      <td>100.0</td>\n",
       "      <td>1.0</td>\n",
       "    </tr>\n",
       "    <tr>\n",
       "      <th>15</th>\n",
       "      <td>15719940.0</td>\n",
       "      <td>0.0</td>\n",
       "      <td>35.17</td>\n",
       "      <td>3.750</td>\n",
       "      <td>2.0</td>\n",
       "      <td>1.0</td>\n",
       "      <td>1.0</td>\n",
       "      <td>0.000</td>\n",
       "      <td>0.0</td>\n",
       "      <td>1.0</td>\n",
       "      <td>6.0</td>\n",
       "      <td>0.0</td>\n",
       "      <td>2.0</td>\n",
       "      <td>0.0</td>\n",
       "      <td>201.0</td>\n",
       "    </tr>\n",
       "    <tr>\n",
       "      <th>16</th>\n",
       "      <td>15711742.0</td>\n",
       "      <td>0.0</td>\n",
       "      <td>23.00</td>\n",
       "      <td>1.835</td>\n",
       "      <td>2.0</td>\n",
       "      <td>5.0</td>\n",
       "      <td>3.0</td>\n",
       "      <td>0.000</td>\n",
       "      <td>0.0</td>\n",
       "      <td>1.0</td>\n",
       "      <td>1.0</td>\n",
       "      <td>0.0</td>\n",
       "      <td>2.0</td>\n",
       "      <td>200.0</td>\n",
       "      <td>54.0</td>\n",
       "    </tr>\n",
       "    <tr>\n",
       "      <th>17</th>\n",
       "      <td>15761733.0</td>\n",
       "      <td>0.0</td>\n",
       "      <td>16.08</td>\n",
       "      <td>0.335</td>\n",
       "      <td>2.0</td>\n",
       "      <td>1.0</td>\n",
       "      <td>1.0</td>\n",
       "      <td>0.000</td>\n",
       "      <td>0.0</td>\n",
       "      <td>1.0</td>\n",
       "      <td>1.0</td>\n",
       "      <td>0.0</td>\n",
       "      <td>2.0</td>\n",
       "      <td>160.0</td>\n",
       "      <td>127.0</td>\n",
       "    </tr>\n",
       "    <tr>\n",
       "      <th>18</th>\n",
       "      <td>15770995.0</td>\n",
       "      <td>0.0</td>\n",
       "      <td>40.33</td>\n",
       "      <td>8.125</td>\n",
       "      <td>1.0</td>\n",
       "      <td>4.0</td>\n",
       "      <td>4.0</td>\n",
       "      <td>0.165</td>\n",
       "      <td>0.0</td>\n",
       "      <td>1.0</td>\n",
       "      <td>2.0</td>\n",
       "      <td>0.0</td>\n",
       "      <td>2.0</td>\n",
       "      <td>184.0</td>\n",
       "      <td>19.0</td>\n",
       "    </tr>\n",
       "    <tr>\n",
       "      <th>19</th>\n",
       "      <td>15736399.0</td>\n",
       "      <td>0.0</td>\n",
       "      <td>36.58</td>\n",
       "      <td>0.290</td>\n",
       "      <td>2.0</td>\n",
       "      <td>1.0</td>\n",
       "      <td>1.0</td>\n",
       "      <td>0.000</td>\n",
       "      <td>0.0</td>\n",
       "      <td>1.0</td>\n",
       "      <td>10.0</td>\n",
       "      <td>0.0</td>\n",
       "      <td>2.0</td>\n",
       "      <td>200.0</td>\n",
       "      <td>19.0</td>\n",
       "    </tr>\n",
       "    <tr>\n",
       "      <th>20</th>\n",
       "      <td>15766734.0</td>\n",
       "      <td>0.0</td>\n",
       "      <td>27.17</td>\n",
       "      <td>1.250</td>\n",
       "      <td>2.0</td>\n",
       "      <td>1.0</td>\n",
       "      <td>1.0</td>\n",
       "      <td>0.000</td>\n",
       "      <td>0.0</td>\n",
       "      <td>1.0</td>\n",
       "      <td>1.0</td>\n",
       "      <td>0.0</td>\n",
       "      <td>2.0</td>\n",
       "      <td>92.0</td>\n",
       "      <td>301.0</td>\n",
       "    </tr>\n",
       "    <tr>\n",
       "      <th>21</th>\n",
       "      <td>15667934.0</td>\n",
       "      <td>0.0</td>\n",
       "      <td>57.58</td>\n",
       "      <td>2.000</td>\n",
       "      <td>2.0</td>\n",
       "      <td>1.0</td>\n",
       "      <td>1.0</td>\n",
       "      <td>6.500</td>\n",
       "      <td>0.0</td>\n",
       "      <td>1.0</td>\n",
       "      <td>1.0</td>\n",
       "      <td>0.0</td>\n",
       "      <td>2.0</td>\n",
       "      <td>0.0</td>\n",
       "      <td>11.0</td>\n",
       "    </tr>\n",
       "  </tbody>\n",
       "</table>\n",
       "</div>"
      ],
      "text/plain": [
       "            0    1      2       3    4     5    6      7    8    9     10  \\\n",
       "0   15810716.0  1.0  23.50   3.165  1.0   4.0  4.0  0.415  0.0  1.0   1.0   \n",
       "1   15766183.0  0.0  24.50   0.500  2.0  11.0  8.0  1.500  1.0  0.0   0.0   \n",
       "2   15684722.0  0.0  27.67   1.500  2.0   7.0  4.0  2.000  1.0  0.0   0.0   \n",
       "3   15772329.0  0.0  28.08  15.000  1.0  10.0  9.0  0.000  1.0  0.0   0.0   \n",
       "4   15734649.0  0.0  40.83  10.000  2.0  11.0  8.0  1.750  1.0  0.0   0.0   \n",
       "5   15646082.0  0.0  18.83   4.415  1.0   8.0  8.0  3.000  1.0  0.0   0.0   \n",
       "6   15717629.0  0.0  25.17   2.875  2.0  14.0  8.0  0.875  1.0  0.0   0.0   \n",
       "7   15604536.0  0.0  20.50  11.835  2.0   8.0  8.0  6.000  1.0  0.0   0.0   \n",
       "8   15635598.0  0.0  24.58   0.670  2.0   6.0  8.0  1.750  1.0  0.0   0.0   \n",
       "9   15647191.0  0.0  32.33   0.540  2.0  13.0  4.0  0.040  1.0  0.0   0.0   \n",
       "10  15623369.0  0.0  44.33   0.000  2.0   8.0  4.0  2.500  1.0  0.0   0.0   \n",
       "11  15793896.0  0.0  28.42   3.500  2.0   9.0  4.0  0.835  1.0  0.0   0.0   \n",
       "12  15650591.0  0.0  26.08   8.665  2.0   6.0  4.0  1.415  1.0  0.0   0.0   \n",
       "13  15633608.0  0.0  22.92  11.585  2.0  13.0  4.0  0.040  1.0  0.0   0.0   \n",
       "14  15675450.0  0.0  18.83   9.540  2.0   6.0  4.0  0.085  1.0  0.0   0.0   \n",
       "15  15719940.0  0.0  35.17   3.750  2.0   1.0  1.0  0.000  0.0  1.0   6.0   \n",
       "16  15711742.0  0.0  23.00   1.835  2.0   5.0  3.0  0.000  0.0  1.0   1.0   \n",
       "17  15761733.0  0.0  16.08   0.335  2.0   1.0  1.0  0.000  0.0  1.0   1.0   \n",
       "18  15770995.0  0.0  40.33   8.125  1.0   4.0  4.0  0.165  0.0  1.0   2.0   \n",
       "19  15736399.0  0.0  36.58   0.290  2.0   1.0  1.0  0.000  0.0  1.0  10.0   \n",
       "20  15766734.0  0.0  27.17   1.250  2.0   1.0  1.0  0.000  0.0  1.0   1.0   \n",
       "21  15667934.0  0.0  57.58   2.000  2.0   1.0  1.0  6.500  0.0  1.0   1.0   \n",
       "\n",
       "     11   12     13       14  \n",
       "0   1.0  2.0  280.0     81.0  \n",
       "1   0.0  2.0  280.0    825.0  \n",
       "2   0.0  1.0  368.0      1.0  \n",
       "3   0.0  2.0    0.0  13213.0  \n",
       "4   0.0  2.0   29.0    838.0  \n",
       "5   0.0  2.0  240.0      1.0  \n",
       "6   0.0  2.0  360.0      1.0  \n",
       "7   0.0  2.0  340.0      1.0  \n",
       "8   0.0  2.0  400.0      1.0  \n",
       "9   0.0  2.0  440.0  11178.0  \n",
       "10  0.0  2.0    0.0      1.0  \n",
       "11  0.0  1.0  280.0      1.0  \n",
       "12  0.0  2.0  160.0    151.0  \n",
       "13  0.0  2.0   80.0   1350.0  \n",
       "14  0.0  2.0  100.0      1.0  \n",
       "15  0.0  2.0    0.0    201.0  \n",
       "16  0.0  2.0  200.0     54.0  \n",
       "17  0.0  2.0  160.0    127.0  \n",
       "18  0.0  2.0  184.0     19.0  \n",
       "19  0.0  2.0  200.0     19.0  \n",
       "20  0.0  2.0   92.0    301.0  \n",
       "21  0.0  2.0    0.0     11.0  "
      ]
     },
     "execution_count": 17,
     "metadata": {},
     "output_type": "execute_result"
    }
   ],
   "source": [
    "mappings = som.win_map(X_scaled)\n",
    "frauds = np.concatenate([mappings[(1, 3)], mappings[(5, 7)], mappings[(7, 6)]], axis=0)\n",
    "frauds = norm_encoder.inverse_transform(frauds)\n",
    "pd.DataFrame(frauds)"
   ]
  },
  {
   "cell_type": "markdown",
   "id": "5d481520-a84f-4445-ba89-dce0bd28142c",
   "metadata": {},
   "source": [
    "## Hybrid Model"
   ]
  },
  {
   "cell_type": "code",
   "execution_count": 18,
   "id": "1606c553-4f18-4e48-9586-c815af873946",
   "metadata": {},
   "outputs": [],
   "source": [
    "# features matrix\n",
    "customers = train_data.iloc[:, 1:].values"
   ]
  },
  {
   "cell_type": "code",
   "execution_count": 19,
   "id": "5985bbdf-3578-442a-92a4-cd9667e503a1",
   "metadata": {},
   "outputs": [],
   "source": [
    "# dependent variable\n",
    "is_fraud = train_data.iloc[:, 0].apply(lambda x: int(x in frauds[:, 0]))"
   ]
  },
  {
   "cell_type": "code",
   "execution_count": 20,
   "id": "5c9189c5-62b2-407b-9ac9-a428a1ec5090",
   "metadata": {},
   "outputs": [],
   "source": [
    "# AAN - classifier\n",
    "\n",
    "# scaling\n",
    "from sklearn.preprocessing import StandardScaler\n",
    "scaler = StandardScaler()\n",
    "customers_scaled = scaler.fit_transform(customers)"
   ]
  },
  {
   "cell_type": "code",
   "execution_count": 21,
   "id": "39c6a058-e9b3-43b2-9c55-9dbeb87abbdb",
   "metadata": {},
   "outputs": [
    {
     "name": "stderr",
     "output_type": "stream",
     "text": [
      "2025-06-26 13:29:59.976424: I tensorflow/core/platform/cpu_feature_guard.cc:210] This TensorFlow binary is optimized to use available CPU instructions in performance-critical operations.\n",
      "To enable the following instructions: SSE4.1 SSE4.2 AVX AVX2 FMA, in other operations, rebuild TensorFlow with the appropriate compiler flags.\n"
     ]
    }
   ],
   "source": [
    "import tensorflow as tf"
   ]
  },
  {
   "cell_type": "code",
   "execution_count": 22,
   "id": "e359e302-f05b-4385-936d-cfb24cdbe086",
   "metadata": {},
   "outputs": [],
   "source": [
    "from tensorflow import keras\n",
    "from tensorflow.keras.models import Sequential\n",
    "from tensorflow.keras.layers import Input, Dense\n",
    "from tensorflow.keras.optimizers import Adam\n",
    "\n",
    "# Initializing the ANN\n",
    "ann = Sequential() \n",
    "# Add input layer with 12 neurones(features)\n",
    "ann.add(Input(shape=(15,)))\n",
    "# Add first hidden layer with 6 neurones\n",
    "ann.add(Dense(2, activation=\"relu\")) \n",
    "# Output layer (Binary Classification)\n",
    "ann.add(Dense(1, activation=\"sigmoid\"))\n",
    "\n",
    "# Compile the ANN\n",
    "ann.compile(optimizer=Adam(learning_rate=0.05),\n",
    "            loss=\"binary_crossentropy\",  # loss function\n",
    "            metrics=[\"accuracy\"])  # metrics"
   ]
  },
  {
   "cell_type": "code",
   "execution_count": 23,
   "id": "fba99f0b-bfb4-47e8-bcad-63a420b41164",
   "metadata": {},
   "outputs": [
    {
     "data": {
      "text/html": [
       "<pre style=\"white-space:pre;overflow-x:auto;line-height:normal;font-family:Menlo,'DejaVu Sans Mono',consolas,'Courier New',monospace\"><span style=\"font-weight: bold\">Model: \"sequential\"</span>\n",
       "</pre>\n"
      ],
      "text/plain": [
       "\u001b[1mModel: \"sequential\"\u001b[0m\n"
      ]
     },
     "metadata": {},
     "output_type": "display_data"
    },
    {
     "data": {
      "text/html": [
       "<pre style=\"white-space:pre;overflow-x:auto;line-height:normal;font-family:Menlo,'DejaVu Sans Mono',consolas,'Courier New',monospace\">┏━━━━━━━━━━━━━━━━━━━━━━━━━━━━━━━━━┳━━━━━━━━━━━━━━━━━━━━━━━━┳━━━━━━━━━━━━━━━┓\n",
       "┃<span style=\"font-weight: bold\"> Layer (type)                    </span>┃<span style=\"font-weight: bold\"> Output Shape           </span>┃<span style=\"font-weight: bold\">       Param # </span>┃\n",
       "┡━━━━━━━━━━━━━━━━━━━━━━━━━━━━━━━━━╇━━━━━━━━━━━━━━━━━━━━━━━━╇━━━━━━━━━━━━━━━┩\n",
       "│ dense (<span style=\"color: #0087ff; text-decoration-color: #0087ff\">Dense</span>)                   │ (<span style=\"color: #00d7ff; text-decoration-color: #00d7ff\">None</span>, <span style=\"color: #00af00; text-decoration-color: #00af00\">2</span>)              │            <span style=\"color: #00af00; text-decoration-color: #00af00\">32</span> │\n",
       "├─────────────────────────────────┼────────────────────────┼───────────────┤\n",
       "│ dense_1 (<span style=\"color: #0087ff; text-decoration-color: #0087ff\">Dense</span>)                 │ (<span style=\"color: #00d7ff; text-decoration-color: #00d7ff\">None</span>, <span style=\"color: #00af00; text-decoration-color: #00af00\">1</span>)              │             <span style=\"color: #00af00; text-decoration-color: #00af00\">3</span> │\n",
       "└─────────────────────────────────┴────────────────────────┴───────────────┘\n",
       "</pre>\n"
      ],
      "text/plain": [
       "┏━━━━━━━━━━━━━━━━━━━━━━━━━━━━━━━━━┳━━━━━━━━━━━━━━━━━━━━━━━━┳━━━━━━━━━━━━━━━┓\n",
       "┃\u001b[1m \u001b[0m\u001b[1mLayer (type)                   \u001b[0m\u001b[1m \u001b[0m┃\u001b[1m \u001b[0m\u001b[1mOutput Shape          \u001b[0m\u001b[1m \u001b[0m┃\u001b[1m \u001b[0m\u001b[1m      Param #\u001b[0m\u001b[1m \u001b[0m┃\n",
       "┡━━━━━━━━━━━━━━━━━━━━━━━━━━━━━━━━━╇━━━━━━━━━━━━━━━━━━━━━━━━╇━━━━━━━━━━━━━━━┩\n",
       "│ dense (\u001b[38;5;33mDense\u001b[0m)                   │ (\u001b[38;5;45mNone\u001b[0m, \u001b[38;5;34m2\u001b[0m)              │            \u001b[38;5;34m32\u001b[0m │\n",
       "├─────────────────────────────────┼────────────────────────┼───────────────┤\n",
       "│ dense_1 (\u001b[38;5;33mDense\u001b[0m)                 │ (\u001b[38;5;45mNone\u001b[0m, \u001b[38;5;34m1\u001b[0m)              │             \u001b[38;5;34m3\u001b[0m │\n",
       "└─────────────────────────────────┴────────────────────────┴───────────────┘\n"
      ]
     },
     "metadata": {},
     "output_type": "display_data"
    },
    {
     "data": {
      "text/html": [
       "<pre style=\"white-space:pre;overflow-x:auto;line-height:normal;font-family:Menlo,'DejaVu Sans Mono',consolas,'Courier New',monospace\"><span style=\"font-weight: bold\"> Total params: </span><span style=\"color: #00af00; text-decoration-color: #00af00\">35</span> (140.00 B)\n",
       "</pre>\n"
      ],
      "text/plain": [
       "\u001b[1m Total params: \u001b[0m\u001b[38;5;34m35\u001b[0m (140.00 B)\n"
      ]
     },
     "metadata": {},
     "output_type": "display_data"
    },
    {
     "data": {
      "text/html": [
       "<pre style=\"white-space:pre;overflow-x:auto;line-height:normal;font-family:Menlo,'DejaVu Sans Mono',consolas,'Courier New',monospace\"><span style=\"font-weight: bold\"> Trainable params: </span><span style=\"color: #00af00; text-decoration-color: #00af00\">35</span> (140.00 B)\n",
       "</pre>\n"
      ],
      "text/plain": [
       "\u001b[1m Trainable params: \u001b[0m\u001b[38;5;34m35\u001b[0m (140.00 B)\n"
      ]
     },
     "metadata": {},
     "output_type": "display_data"
    },
    {
     "data": {
      "text/html": [
       "<pre style=\"white-space:pre;overflow-x:auto;line-height:normal;font-family:Menlo,'DejaVu Sans Mono',consolas,'Courier New',monospace\"><span style=\"font-weight: bold\"> Non-trainable params: </span><span style=\"color: #00af00; text-decoration-color: #00af00\">0</span> (0.00 B)\n",
       "</pre>\n"
      ],
      "text/plain": [
       "\u001b[1m Non-trainable params: \u001b[0m\u001b[38;5;34m0\u001b[0m (0.00 B)\n"
      ]
     },
     "metadata": {},
     "output_type": "display_data"
    }
   ],
   "source": [
    "ann.summary()"
   ]
  },
  {
   "cell_type": "code",
   "execution_count": 24,
   "id": "0a6c1dd8-95a7-4f38-9a2d-0859562131d5",
   "metadata": {},
   "outputs": [
    {
     "name": "stdout",
     "output_type": "stream",
     "text": [
      "Epoch 1/2\n",
      "\u001b[1m690/690\u001b[0m \u001b[32m━━━━━━━━━━━━━━━━━━━━\u001b[0m\u001b[37m\u001b[0m \u001b[1m2s\u001b[0m 1ms/step - accuracy: 0.9492 - loss: 0.1901    \n",
      "Epoch 2/2\n",
      "\u001b[1m690/690\u001b[0m \u001b[32m━━━━━━━━━━━━━━━━━━━━\u001b[0m\u001b[37m\u001b[0m \u001b[1m1s\u001b[0m 1ms/step - accuracy: 0.9574 - loss: 0.1556      \n"
     ]
    }
   ],
   "source": [
    "history = ann.fit(customers_scaled, is_fraud, \n",
    "                    epochs=2, batch_size=1, verbose=True)"
   ]
  },
  {
   "cell_type": "code",
   "execution_count": 25,
   "id": "49c51314-ff7e-435c-a305-90f25c7debd1",
   "metadata": {},
   "outputs": [
    {
     "data": {
      "image/png": "[encoded data removed]",
      "text/plain": [
       "<Figure size 640x480 with 1 Axes>"
      ]
     },
     "metadata": {},
     "output_type": "display_data"
    }
   ],
   "source": [
    "plt.plot(history.history[\"accuracy\"], label=\"Train Accuracy\")\n",
    "#plt.plot(history.history[\"val_accuracy\"], label=\"Validation Accuracy\")\n",
    "plt.xlabel(\"Epoch\")\n",
    "plt.ylabel(\"Accuracy\")\n",
    "plt.legend()\n",
    "plt.title(\"Training of ANN\")\n",
    "plt.show()"
   ]
  },
  {
   "cell_type": "code",
   "execution_count": 26,
   "id": "e8ea9b5c-7908-44b5-8bca-5408d78017f9",
   "metadata": {},
   "outputs": [
    {
     "name": "stdout",
     "output_type": "stream",
     "text": [
      "Test Accuracy: 0.9681\n"
     ]
    }
   ],
   "source": [
    "loss, accuracy = ann.evaluate(customers_scaled, is_fraud, verbose=False)\n",
    "print(f\"Test Accuracy: {accuracy:.4f}\")"
   ]
  },
  {
   "cell_type": "code",
   "execution_count": 27,
   "id": "f1b9b603-3e2b-407e-9678-4a150dabd51d",
   "metadata": {},
   "outputs": [],
   "source": [
    "predictions = ann.predict(customers_scaled, verbose=False)\n",
    "#predictions = (predictions > 0.5).astype(int)"
   ]
  },
  {
   "cell_type": "code",
   "execution_count": 28,
   "id": "7689b0bf-bbbd-480b-b126-20bcdcb62661",
   "metadata": {},
   "outputs": [],
   "source": [
    "preds = np.concatenate((train_data.iloc[:, 0:1], predictions), axis=1)"
   ]
  },
  {
   "cell_type": "code",
   "execution_count": 29,
   "id": "ab01d7c9-c421-42a5-ac3c-14682565a83b",
   "metadata": {},
   "outputs": [
    {
     "data": {
      "text/plain": [
       "array([[1.57901130e+07, 2.82424407e-26],\n",
       "       [1.57997850e+07, 6.38156452e-14],\n",
       "       [1.57627160e+07, 1.63253970e-12],\n",
       "       ...,\n",
       "       [1.57921070e+07, 7.96106532e-02],\n",
       "       [1.55938340e+07, 7.96106532e-02],\n",
       "       [1.57215040e+07, 7.96106532e-02]])"
      ]
     },
     "execution_count": 29,
     "metadata": {},
     "output_type": "execute_result"
    }
   ],
   "source": [
    "preds[preds[:, 1].argsort()]"
   ]
  }
 ],
 "metadata": {
  "kernelspec": {
   "display_name": "Python 3 (ipykernel)",
   "language": "python",
   "name": "python3"
  },
  "language_info": {
   "codemirror_mode": {
    "name": "ipython",
    "version": 3
   },
   "file_extension": ".py",
   "mimetype": "text/x-python",
   "name": "python",
   "nbconvert_exporter": "python",
   "pygments_lexer": "ipython3",
   "version": "3.12.4"
  }
 },
 "nbformat": 4,
 "nbformat_minor": 5
}
